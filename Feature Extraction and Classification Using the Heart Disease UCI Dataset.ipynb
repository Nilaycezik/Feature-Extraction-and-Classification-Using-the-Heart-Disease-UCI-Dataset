{
 "cells": [
  {
   "cell_type": "markdown",
   "id": "4404e9c2",
   "metadata": {},
   "source": [
    "## Feature Extraction and Classification Using the Heart Disease UCI Dataset"
   ]
  },
  {
   "cell_type": "markdown",
   "id": "96dfddc3",
   "metadata": {},
   "source": [
    "###### Database Information:\n",
    "This database contains 76 attributes, but all published experiments refer to using a subset of 14 of them. In particular, the Cleveland database is the only one that has been used by ML researchers to\n",
    "this date. The \"goal\" field refers to the presence of heart disease in the patient. It is integer valued from 0 (no presence) to 4."
   ]
  },
  {
   "cell_type": "markdown",
   "id": "c230db6f",
   "metadata": {},
   "source": [
    "###### Attribute Information:\n",
    "age\n",
    "\n",
    "sex\n",
    "\n",
    "chest pain type (4 values)\n",
    "\n",
    "resting blood pressure\n",
    "\n",
    "serum cholestoral in mg/dl\n",
    "\n",
    "fasting blood sugar > 120 mg/dl\n",
    "\n",
    "resting electrocardiographic results (values 0,1,2)\n",
    "\n",
    "maximum heart rate achieved\n",
    "\n",
    "exercise induced angina\n",
    "\n",
    "oldpeak = ST depression induced by exercise relative to rest\n",
    "\n",
    "the slope of the peak exercise ST segment\n",
    "\n",
    "number of major vessels (0-3) colored by flourosopy\n",
    "\n",
    "thal: 3 = normal; 6 = fixed defect; 7 = reversable defect\n"
   ]
  },
  {
   "cell_type": "code",
   "execution_count": 111,
   "id": "c553acca",
   "metadata": {},
   "outputs": [],
   "source": [
    "import numpy as np\n",
    "import pandas as pd\n",
    "import os\n",
    "import matplotlib.pyplot as plt\n",
    "import seaborn as sns\n",
    "from sklearn.feature_selection import mutual_info_classif\n",
    "from sklearn.feature_selection import SelectKBest\n",
    "from sklearn.feature_selection import chi2\n",
    "import tensorflow as tf\n",
    "from tensorflow import keras\n",
    "from tensorflow.keras import layers\n",
    "from tensorflow.keras import activations\n",
    "from keras.models import Sequential\n",
    "from keras.layers import Dense\n",
    "from sklearn.neighbors import KNeighborsClassifier"
   ]
  },
  {
   "cell_type": "markdown",
   "id": "8488f104",
   "metadata": {},
   "source": [
    "###### Read CSV files"
   ]
  },
  {
   "cell_type": "code",
   "execution_count": 112,
   "id": "8878004f",
   "metadata": {
    "scrolled": true
   },
   "outputs": [
    {
     "data": {
      "text/html": [
       "<div>\n",
       "<style scoped>\n",
       "    .dataframe tbody tr th:only-of-type {\n",
       "        vertical-align: middle;\n",
       "    }\n",
       "\n",
       "    .dataframe tbody tr th {\n",
       "        vertical-align: top;\n",
       "    }\n",
       "\n",
       "    .dataframe thead th {\n",
       "        text-align: right;\n",
       "    }\n",
       "</style>\n",
       "<table border=\"1\" class=\"dataframe\">\n",
       "  <thead>\n",
       "    <tr style=\"text-align: right;\">\n",
       "      <th></th>\n",
       "      <th>age</th>\n",
       "      <th>sex</th>\n",
       "      <th>cp</th>\n",
       "      <th>trestbps</th>\n",
       "      <th>chol</th>\n",
       "      <th>fbs</th>\n",
       "      <th>restecg</th>\n",
       "      <th>thalach</th>\n",
       "      <th>exang</th>\n",
       "      <th>oldpeak</th>\n",
       "      <th>slope</th>\n",
       "      <th>ca</th>\n",
       "      <th>thal</th>\n",
       "      <th>target</th>\n",
       "    </tr>\n",
       "  </thead>\n",
       "  <tbody>\n",
       "    <tr>\n",
       "      <th>0</th>\n",
       "      <td>63</td>\n",
       "      <td>1</td>\n",
       "      <td>3</td>\n",
       "      <td>145</td>\n",
       "      <td>233</td>\n",
       "      <td>1</td>\n",
       "      <td>0</td>\n",
       "      <td>150</td>\n",
       "      <td>0</td>\n",
       "      <td>2.3</td>\n",
       "      <td>0</td>\n",
       "      <td>0</td>\n",
       "      <td>1</td>\n",
       "      <td>1</td>\n",
       "    </tr>\n",
       "    <tr>\n",
       "      <th>1</th>\n",
       "      <td>37</td>\n",
       "      <td>1</td>\n",
       "      <td>2</td>\n",
       "      <td>130</td>\n",
       "      <td>250</td>\n",
       "      <td>0</td>\n",
       "      <td>1</td>\n",
       "      <td>187</td>\n",
       "      <td>0</td>\n",
       "      <td>3.5</td>\n",
       "      <td>0</td>\n",
       "      <td>0</td>\n",
       "      <td>2</td>\n",
       "      <td>1</td>\n",
       "    </tr>\n",
       "    <tr>\n",
       "      <th>2</th>\n",
       "      <td>41</td>\n",
       "      <td>0</td>\n",
       "      <td>1</td>\n",
       "      <td>130</td>\n",
       "      <td>204</td>\n",
       "      <td>0</td>\n",
       "      <td>0</td>\n",
       "      <td>172</td>\n",
       "      <td>0</td>\n",
       "      <td>1.4</td>\n",
       "      <td>2</td>\n",
       "      <td>0</td>\n",
       "      <td>2</td>\n",
       "      <td>1</td>\n",
       "    </tr>\n",
       "    <tr>\n",
       "      <th>3</th>\n",
       "      <td>56</td>\n",
       "      <td>1</td>\n",
       "      <td>1</td>\n",
       "      <td>120</td>\n",
       "      <td>236</td>\n",
       "      <td>0</td>\n",
       "      <td>1</td>\n",
       "      <td>178</td>\n",
       "      <td>0</td>\n",
       "      <td>0.8</td>\n",
       "      <td>2</td>\n",
       "      <td>0</td>\n",
       "      <td>2</td>\n",
       "      <td>1</td>\n",
       "    </tr>\n",
       "    <tr>\n",
       "      <th>4</th>\n",
       "      <td>57</td>\n",
       "      <td>0</td>\n",
       "      <td>0</td>\n",
       "      <td>120</td>\n",
       "      <td>354</td>\n",
       "      <td>0</td>\n",
       "      <td>1</td>\n",
       "      <td>163</td>\n",
       "      <td>1</td>\n",
       "      <td>0.6</td>\n",
       "      <td>2</td>\n",
       "      <td>0</td>\n",
       "      <td>2</td>\n",
       "      <td>1</td>\n",
       "    </tr>\n",
       "    <tr>\n",
       "      <th>...</th>\n",
       "      <td>...</td>\n",
       "      <td>...</td>\n",
       "      <td>...</td>\n",
       "      <td>...</td>\n",
       "      <td>...</td>\n",
       "      <td>...</td>\n",
       "      <td>...</td>\n",
       "      <td>...</td>\n",
       "      <td>...</td>\n",
       "      <td>...</td>\n",
       "      <td>...</td>\n",
       "      <td>...</td>\n",
       "      <td>...</td>\n",
       "      <td>...</td>\n",
       "    </tr>\n",
       "    <tr>\n",
       "      <th>298</th>\n",
       "      <td>57</td>\n",
       "      <td>0</td>\n",
       "      <td>0</td>\n",
       "      <td>140</td>\n",
       "      <td>241</td>\n",
       "      <td>0</td>\n",
       "      <td>1</td>\n",
       "      <td>123</td>\n",
       "      <td>1</td>\n",
       "      <td>0.2</td>\n",
       "      <td>1</td>\n",
       "      <td>0</td>\n",
       "      <td>3</td>\n",
       "      <td>0</td>\n",
       "    </tr>\n",
       "    <tr>\n",
       "      <th>299</th>\n",
       "      <td>45</td>\n",
       "      <td>1</td>\n",
       "      <td>3</td>\n",
       "      <td>110</td>\n",
       "      <td>264</td>\n",
       "      <td>0</td>\n",
       "      <td>1</td>\n",
       "      <td>132</td>\n",
       "      <td>0</td>\n",
       "      <td>1.2</td>\n",
       "      <td>1</td>\n",
       "      <td>0</td>\n",
       "      <td>3</td>\n",
       "      <td>0</td>\n",
       "    </tr>\n",
       "    <tr>\n",
       "      <th>300</th>\n",
       "      <td>68</td>\n",
       "      <td>1</td>\n",
       "      <td>0</td>\n",
       "      <td>144</td>\n",
       "      <td>193</td>\n",
       "      <td>1</td>\n",
       "      <td>1</td>\n",
       "      <td>141</td>\n",
       "      <td>0</td>\n",
       "      <td>3.4</td>\n",
       "      <td>1</td>\n",
       "      <td>2</td>\n",
       "      <td>3</td>\n",
       "      <td>0</td>\n",
       "    </tr>\n",
       "    <tr>\n",
       "      <th>301</th>\n",
       "      <td>57</td>\n",
       "      <td>1</td>\n",
       "      <td>0</td>\n",
       "      <td>130</td>\n",
       "      <td>131</td>\n",
       "      <td>0</td>\n",
       "      <td>1</td>\n",
       "      <td>115</td>\n",
       "      <td>1</td>\n",
       "      <td>1.2</td>\n",
       "      <td>1</td>\n",
       "      <td>1</td>\n",
       "      <td>3</td>\n",
       "      <td>0</td>\n",
       "    </tr>\n",
       "    <tr>\n",
       "      <th>302</th>\n",
       "      <td>57</td>\n",
       "      <td>0</td>\n",
       "      <td>1</td>\n",
       "      <td>130</td>\n",
       "      <td>236</td>\n",
       "      <td>0</td>\n",
       "      <td>0</td>\n",
       "      <td>174</td>\n",
       "      <td>0</td>\n",
       "      <td>0.0</td>\n",
       "      <td>1</td>\n",
       "      <td>1</td>\n",
       "      <td>2</td>\n",
       "      <td>0</td>\n",
       "    </tr>\n",
       "  </tbody>\n",
       "</table>\n",
       "<p>303 rows × 14 columns</p>\n",
       "</div>"
      ],
      "text/plain": [
       "     age  sex  cp  trestbps  chol  fbs  restecg  thalach  exang  oldpeak  \\\n",
       "0     63    1   3       145   233    1        0      150      0      2.3   \n",
       "1     37    1   2       130   250    0        1      187      0      3.5   \n",
       "2     41    0   1       130   204    0        0      172      0      1.4   \n",
       "3     56    1   1       120   236    0        1      178      0      0.8   \n",
       "4     57    0   0       120   354    0        1      163      1      0.6   \n",
       "..   ...  ...  ..       ...   ...  ...      ...      ...    ...      ...   \n",
       "298   57    0   0       140   241    0        1      123      1      0.2   \n",
       "299   45    1   3       110   264    0        1      132      0      1.2   \n",
       "300   68    1   0       144   193    1        1      141      0      3.4   \n",
       "301   57    1   0       130   131    0        1      115      1      1.2   \n",
       "302   57    0   1       130   236    0        0      174      0      0.0   \n",
       "\n",
       "     slope  ca  thal  target  \n",
       "0        0   0     1       1  \n",
       "1        0   0     2       1  \n",
       "2        2   0     2       1  \n",
       "3        2   0     2       1  \n",
       "4        2   0     2       1  \n",
       "..     ...  ..   ...     ...  \n",
       "298      1   0     3       0  \n",
       "299      1   0     3       0  \n",
       "300      1   2     3       0  \n",
       "301      1   1     3       0  \n",
       "302      1   1     2       0  \n",
       "\n",
       "[303 rows x 14 columns]"
      ]
     },
     "execution_count": 112,
     "metadata": {},
     "output_type": "execute_result"
    }
   ],
   "source": [
    "dataset=pd.read_csv(\"heart.csv\")\n",
    "dataset"
   ]
  },
  {
   "cell_type": "code",
   "execution_count": 113,
   "id": "97a67eb3",
   "metadata": {},
   "outputs": [],
   "source": [
    "data = dataset.copy()\n",
    "data = data.dropna()"
   ]
  },
  {
   "cell_type": "markdown",
   "id": "ef4cb1c0",
   "metadata": {},
   "source": [
    "###### Data separated as attribute and target"
   ]
  },
  {
   "cell_type": "code",
   "execution_count": 114,
   "id": "b245420f",
   "metadata": {},
   "outputs": [],
   "source": [
    "x = data.drop(['target'], axis = 1)"
   ]
  },
  {
   "cell_type": "code",
   "execution_count": 115,
   "id": "259aaded",
   "metadata": {},
   "outputs": [
    {
     "data": {
      "text/html": [
       "<div>\n",
       "<style scoped>\n",
       "    .dataframe tbody tr th:only-of-type {\n",
       "        vertical-align: middle;\n",
       "    }\n",
       "\n",
       "    .dataframe tbody tr th {\n",
       "        vertical-align: top;\n",
       "    }\n",
       "\n",
       "    .dataframe thead th {\n",
       "        text-align: right;\n",
       "    }\n",
       "</style>\n",
       "<table border=\"1\" class=\"dataframe\">\n",
       "  <thead>\n",
       "    <tr style=\"text-align: right;\">\n",
       "      <th></th>\n",
       "      <th>age</th>\n",
       "      <th>sex</th>\n",
       "      <th>cp</th>\n",
       "      <th>trestbps</th>\n",
       "      <th>chol</th>\n",
       "      <th>fbs</th>\n",
       "      <th>restecg</th>\n",
       "      <th>thalach</th>\n",
       "      <th>exang</th>\n",
       "      <th>oldpeak</th>\n",
       "      <th>slope</th>\n",
       "      <th>ca</th>\n",
       "      <th>thal</th>\n",
       "    </tr>\n",
       "  </thead>\n",
       "  <tbody>\n",
       "    <tr>\n",
       "      <th>0</th>\n",
       "      <td>63</td>\n",
       "      <td>1</td>\n",
       "      <td>3</td>\n",
       "      <td>145</td>\n",
       "      <td>233</td>\n",
       "      <td>1</td>\n",
       "      <td>0</td>\n",
       "      <td>150</td>\n",
       "      <td>0</td>\n",
       "      <td>2.3</td>\n",
       "      <td>0</td>\n",
       "      <td>0</td>\n",
       "      <td>1</td>\n",
       "    </tr>\n",
       "    <tr>\n",
       "      <th>1</th>\n",
       "      <td>37</td>\n",
       "      <td>1</td>\n",
       "      <td>2</td>\n",
       "      <td>130</td>\n",
       "      <td>250</td>\n",
       "      <td>0</td>\n",
       "      <td>1</td>\n",
       "      <td>187</td>\n",
       "      <td>0</td>\n",
       "      <td>3.5</td>\n",
       "      <td>0</td>\n",
       "      <td>0</td>\n",
       "      <td>2</td>\n",
       "    </tr>\n",
       "    <tr>\n",
       "      <th>2</th>\n",
       "      <td>41</td>\n",
       "      <td>0</td>\n",
       "      <td>1</td>\n",
       "      <td>130</td>\n",
       "      <td>204</td>\n",
       "      <td>0</td>\n",
       "      <td>0</td>\n",
       "      <td>172</td>\n",
       "      <td>0</td>\n",
       "      <td>1.4</td>\n",
       "      <td>2</td>\n",
       "      <td>0</td>\n",
       "      <td>2</td>\n",
       "    </tr>\n",
       "    <tr>\n",
       "      <th>3</th>\n",
       "      <td>56</td>\n",
       "      <td>1</td>\n",
       "      <td>1</td>\n",
       "      <td>120</td>\n",
       "      <td>236</td>\n",
       "      <td>0</td>\n",
       "      <td>1</td>\n",
       "      <td>178</td>\n",
       "      <td>0</td>\n",
       "      <td>0.8</td>\n",
       "      <td>2</td>\n",
       "      <td>0</td>\n",
       "      <td>2</td>\n",
       "    </tr>\n",
       "    <tr>\n",
       "      <th>4</th>\n",
       "      <td>57</td>\n",
       "      <td>0</td>\n",
       "      <td>0</td>\n",
       "      <td>120</td>\n",
       "      <td>354</td>\n",
       "      <td>0</td>\n",
       "      <td>1</td>\n",
       "      <td>163</td>\n",
       "      <td>1</td>\n",
       "      <td>0.6</td>\n",
       "      <td>2</td>\n",
       "      <td>0</td>\n",
       "      <td>2</td>\n",
       "    </tr>\n",
       "  </tbody>\n",
       "</table>\n",
       "</div>"
      ],
      "text/plain": [
       "   age  sex  cp  trestbps  chol  fbs  restecg  thalach  exang  oldpeak  slope  \\\n",
       "0   63    1   3       145   233    1        0      150      0      2.3      0   \n",
       "1   37    1   2       130   250    0        1      187      0      3.5      0   \n",
       "2   41    0   1       130   204    0        0      172      0      1.4      2   \n",
       "3   56    1   1       120   236    0        1      178      0      0.8      2   \n",
       "4   57    0   0       120   354    0        1      163      1      0.6      2   \n",
       "\n",
       "   ca  thal  \n",
       "0   0     1  \n",
       "1   0     2  \n",
       "2   0     2  \n",
       "3   0     2  \n",
       "4   0     2  "
      ]
     },
     "execution_count": 115,
     "metadata": {},
     "output_type": "execute_result"
    }
   ],
   "source": [
    "x.head()"
   ]
  },
  {
   "cell_type": "code",
   "execution_count": 116,
   "id": "08a3306f",
   "metadata": {},
   "outputs": [],
   "source": [
    "y = data['target']"
   ]
  },
  {
   "cell_type": "code",
   "execution_count": 117,
   "id": "5d7e053a",
   "metadata": {},
   "outputs": [
    {
     "data": {
      "text/plain": [
       "0    1\n",
       "1    1\n",
       "2    1\n",
       "3    1\n",
       "4    1\n",
       "Name: target, dtype: int64"
      ]
     },
     "execution_count": 117,
     "metadata": {},
     "output_type": "execute_result"
    }
   ],
   "source": [
    "y.head()"
   ]
  },
  {
   "cell_type": "code",
   "execution_count": 118,
   "id": "65b016a5",
   "metadata": {
    "scrolled": false
   },
   "outputs": [
    {
     "data": {
      "image/png": "[encoded data removed]",
      "text/plain": [
       "<Figure size 360x360 with 1 Axes>"
      ]
     },
     "metadata": {
      "needs_background": "light"
     },
     "output_type": "display_data"
    }
   ],
   "source": [
    "fig_dims = (5, 5)\n",
    "fig, ax = plt.subplots(figsize=fig_dims)\n",
    "data_table_target = sns.countplot(x='target', data=data) \n",
    "data_table_target.set_title(\"Heart Disease\") \n",
    "data_table_target.set_xticklabels(['No Heart Disease', 'Have Heart Disease']) \n",
    "plt.xlabel(\"\") ;"
   ]
  },
  {
   "cell_type": "markdown",
   "id": "50c5b1c5",
   "metadata": {},
   "source": [
    "### Feature Extraction"
   ]
  },
  {
   "cell_type": "markdown",
   "id": "71b1c222",
   "metadata": {},
   "source": [
    "#### Filter Methods"
   ]
  },
  {
   "cell_type": "markdown",
   "id": "e7a6efb9",
   "metadata": {},
   "source": [
    "###### Feature extraction using information gain"
   ]
  },
  {
   "cell_type": "code",
   "execution_count": 119,
   "id": "5dcf10db",
   "metadata": {},
   "outputs": [
    {
     "data": {
      "image/png": "[encoded data removed]",
      "text/plain": [
       "<Figure size 432x288 with 1 Axes>"
      ]
     },
     "metadata": {
      "needs_background": "light"
     },
     "output_type": "display_data"
    }
   ],
   "source": [
    "imported = mutual_info_classif(x,y)\n",
    "feature_imported = pd.Series(imported,data .columns[0:len(data.columns)-1])\n",
    "feature_imported.plot(kind = \"barh\", color = \"purple\")\n",
    "plt.show()"
   ]
  },
  {
   "cell_type": "markdown",
   "id": "382c6df3",
   "metadata": {},
   "source": [
    "###### Feature extraction using Chi-Square Test"
   ]
  },
  {
   "cell_type": "code",
   "execution_count": 120,
   "id": "9540799c",
   "metadata": {},
   "outputs": [
    {
     "name": "stdout",
     "output_type": "stream",
     "text": [
      "original feature 13\n",
      "reduced feature 5\n"
     ]
    }
   ],
   "source": [
    "x_categories = x.astype(int)\n",
    "chi_features = SelectKBest(chi2,k=5)\n",
    "x_selectkbest = chi_features.fit_transform(x_categories,y)\n",
    "print(\"original feature\",x_categories.shape[1])\n",
    "print(\"reduced feature\",x_selectkbest.shape[1])"
   ]
  },
  {
   "cell_type": "markdown",
   "id": "2b880df9",
   "metadata": {},
   "source": [
    "###### Feature extraction using Mean Absolute Difference"
   ]
  },
  {
   "cell_type": "code",
   "execution_count": 121,
   "id": "7d205cb1",
   "metadata": {},
   "outputs": [
    {
     "data": {
      "text/plain": [
       "<BarContainer object of 13 artists>"
      ]
     },
     "execution_count": 121,
     "metadata": {},
     "output_type": "execute_result"
    },
    {
     "data": {
      "image/png": "[encoded data removed]",
      "text/plain": [
       "<Figure size 432x288 with 1 Axes>"
      ]
     },
     "metadata": {
      "needs_background": "light"
     },
     "output_type": "display_data"
    }
   ],
   "source": [
    "mean_diff = np.sum(np.abs(x - np.mean(x, axis = 0)), axis = 0)/x.shape[0]\n",
    "plt.bar(np.arange(x.shape[1]), mean_diff, color = \"purple\")"
   ]
  },
  {
   "cell_type": "markdown",
   "id": "524e3372",
   "metadata": {},
   "source": [
    "###### Feature extraction using  Dispersion ratio"
   ]
  },
  {
   "cell_type": "code",
   "execution_count": 122,
   "id": "3ae54dc8",
   "metadata": {
    "scrolled": true
   },
   "outputs": [
    {
     "data": {
      "text/plain": [
       "<BarContainer object of 13 artists>"
      ]
     },
     "execution_count": 122,
     "metadata": {},
     "output_type": "execute_result"
    },
    {
     "data": {
      "image/png": "[encoded data removed]",
      "text/plain": [
       "<Figure size 432x288 with 1 Axes>"
      ]
     },
     "metadata": {
      "needs_background": "light"
     },
     "output_type": "display_data"
    }
   ],
   "source": [
    "x = x+1\n",
    "aritmetic_mean = np.mean(x , axis = 0)\n",
    "geometric_mean = np.power(np.prod(x, axis = 0),1)/x.shape[0]\n",
    "dispersion_ratio = aritmetic_mean/geometric_mean\n",
    "plt.bar(np.arange(x.shape[1]), dispersion_ratio , color = \"purple\")"
   ]
  },
  {
   "cell_type": "markdown",
   "id": "306d5935",
   "metadata": {},
   "source": [
    "###### Classification using MLP\n",
    "Chi-Square Test was used for classification\n",
    "\n",
    "The dataset was divided into training and test datasets."
   ]
  },
  {
   "cell_type": "code",
   "execution_count": 123,
   "id": "050ae88a",
   "metadata": {},
   "outputs": [],
   "source": [
    "x_train,x_test,y_train,y_test=train_test_split(x_selectkbest,y,test_size=0.30,random_state=5)"
   ]
  },
  {
   "cell_type": "code",
   "execution_count": 124,
   "id": "9d514731",
   "metadata": {},
   "outputs": [],
   "source": [
    "model = Sequential()"
   ]
  },
  {
   "cell_type": "markdown",
   "id": "8371f05b",
   "metadata": {},
   "source": [
    "###### Input Layer"
   ]
  },
  {
   "cell_type": "code",
   "execution_count": 126,
   "id": "783ca435",
   "metadata": {},
   "outputs": [],
   "source": [
    "model.add(Dense(5, input_dim=5, activation='tanh'))"
   ]
  },
  {
   "cell_type": "markdown",
   "id": "a2ba2c7a",
   "metadata": {},
   "source": [
    "###### Hidden Layer"
   ]
  },
  {
   "cell_type": "code",
   "execution_count": 127,
   "id": "482c2c55",
   "metadata": {},
   "outputs": [],
   "source": [
    "model.add(Dense(16, activation='tanh'))"
   ]
  },
  {
   "cell_type": "markdown",
   "id": "0a8c7408",
   "metadata": {},
   "source": [
    "###### Output Layer"
   ]
  },
  {
   "cell_type": "code",
   "execution_count": 128,
   "id": "f813b5c3",
   "metadata": {},
   "outputs": [],
   "source": [
    "model.add(Dense(1, activation='sigmoid'))"
   ]
  },
  {
   "cell_type": "markdown",
   "id": "a6186619",
   "metadata": {},
   "source": [
    "###### Model Training"
   ]
  },
  {
   "cell_type": "code",
   "execution_count": 129,
   "id": "b3e2b9c3",
   "metadata": {},
   "outputs": [],
   "source": [
    "model.compile(optimizer='adam',loss='binary_crossentropy',metrics=['accuracy'])"
   ]
  },
  {
   "cell_type": "code",
   "execution_count": 130,
   "id": "c41085e5",
   "metadata": {},
   "outputs": [
    {
     "name": "stdout",
     "output_type": "stream",
     "text": [
      "Epoch 1/10\n",
      "7/7 [==============================] - 0s 665us/step - loss: 0.6896 - accuracy: 0.5283\n",
      "Epoch 2/10\n",
      "7/7 [==============================] - 0s 665us/step - loss: 0.6860 - accuracy: 0.5613\n",
      "Epoch 3/10\n",
      "7/7 [==============================] - 0s 665us/step - loss: 0.6868 - accuracy: 0.5849\n",
      "Epoch 4/10\n",
      "7/7 [==============================] - 0s 831us/step - loss: 0.6843 - accuracy: 0.5708\n",
      "Epoch 5/10\n",
      "7/7 [==============================] - 0s 499us/step - loss: 0.6840 - accuracy: 0.5613\n",
      "Epoch 6/10\n",
      "7/7 [==============================] - 0s 665us/step - loss: 0.6825 - accuracy: 0.5613\n",
      "Epoch 7/10\n",
      "7/7 [==============================] - 0s 665us/step - loss: 0.6809 - accuracy: 0.5849\n",
      "Epoch 8/10\n",
      "7/7 [==============================] - 0s 665us/step - loss: 0.6781 - accuracy: 0.5943\n",
      "Epoch 9/10\n",
      "7/7 [==============================] - 0s 665us/step - loss: 0.6762 - accuracy: 0.5849\n",
      "Epoch 10/10\n",
      "7/7 [==============================] - 0s 665us/step - loss: 0.6730 - accuracy: 0.5802\n"
     ]
    },
    {
     "data": {
      "text/plain": [
       "<keras.callbacks.History at 0x1e5eef615b0>"
      ]
     },
     "execution_count": 130,
     "metadata": {},
     "output_type": "execute_result"
    }
   ],
   "source": [
    "model.fit(x_train, y_train, epochs=10, verbose=1)"
   ]
  },
  {
   "cell_type": "markdown",
   "id": "035dafcd",
   "metadata": {},
   "source": [
    "###### Model Accuracy for Test Data"
   ]
  },
  {
   "cell_type": "code",
   "execution_count": 133,
   "id": "771fa571",
   "metadata": {
    "scrolled": true
   },
   "outputs": [
    {
     "name": "stdout",
     "output_type": "stream",
     "text": [
      "Model Accuracy =  0.5714285969734192\n"
     ]
    }
   ],
   "source": [
    "score = model.evaluate(x_test, y_test, verbose=0)\n",
    "print('Model Accuracy for Test Data = ',score[1])"
   ]
  },
  {
   "cell_type": "markdown",
   "id": "4be8df10",
   "metadata": {},
   "source": [
    "###### Model Accuracy for Training Data"
   ]
  },
  {
   "cell_type": "code",
   "execution_count": 135,
   "id": "d860a0c1",
   "metadata": {},
   "outputs": [
    {
     "name": "stdout",
     "output_type": "stream",
     "text": [
      "Model Accuracy for Training Data =  0.5896226167678833\n"
     ]
    }
   ],
   "source": [
    "score = model.evaluate(x_train, y_train, verbose=0)\n",
    "print('Model Accuracy for Training Data = ',score[1])"
   ]
  },
  {
   "cell_type": "markdown",
   "id": "51616e77",
   "metadata": {},
   "source": [
    "###### Classification using KNN"
   ]
  },
  {
   "cell_type": "code",
   "execution_count": 136,
   "id": "cb829b45",
   "metadata": {},
   "outputs": [],
   "source": [
    "knn = KNeighborsClassifier(n_neighbors = 3)"
   ]
  },
  {
   "cell_type": "markdown",
   "id": "68866eaf",
   "metadata": {},
   "source": [
    "###### Model Training"
   ]
  },
  {
   "cell_type": "code",
   "execution_count": 137,
   "id": "d5ca1ecb",
   "metadata": {},
   "outputs": [
    {
     "data": {
      "text/plain": [
       "KNeighborsClassifier(n_neighbors=3)"
      ]
     },
     "execution_count": 137,
     "metadata": {},
     "output_type": "execute_result"
    }
   ],
   "source": [
    " knn.fit(x_train, y_train)"
   ]
  },
  {
   "cell_type": "markdown",
   "id": "0dc8e996",
   "metadata": {},
   "source": [
    "###### Predict Data"
   ]
  },
  {
   "cell_type": "code",
   "execution_count": 138,
   "id": "77f882cf",
   "metadata": {},
   "outputs": [],
   "source": [
    "y_pred = knn.predict(x_test)"
   ]
  },
  {
   "cell_type": "code",
   "execution_count": 145,
   "id": "b7d2ec20",
   "metadata": {},
   "outputs": [
    {
     "name": "stdout",
     "output_type": "stream",
     "text": [
      "[1 0 0 0 1 1 1 0 1 1 0 0 1 1 0 0 0 1 1 0 0 0 1 0 0 1 1 1 1 0 1 1 1 1 0 0 1\n",
      " 1 0 0 1 0 1 0 0 1 0 0 0 0 0 1 0 1 1 0 0 1 1 0 1 0 0 1 1 1 0 1 1 0 0 0 1 0\n",
      " 0 1 0 1 1 1 1 1 1 0 1 1 0 0 1 0 1]\n"
     ]
    }
   ],
   "source": [
    "print(y_pred)"
   ]
  },
  {
   "cell_type": "markdown",
   "id": "4806c00d",
   "metadata": {},
   "source": [
    "###### Model Accuracy for Test Data"
   ]
  },
  {
   "cell_type": "code",
   "execution_count": 143,
   "id": "239ba4f3",
   "metadata": {},
   "outputs": [
    {
     "name": "stdout",
     "output_type": "stream",
     "text": [
      "Model Accuracy for Test Data =  0.8351648351648352\n"
     ]
    }
   ],
   "source": [
    "score_data = knn.score(x_test, y_test)\n",
    "print('Model Accuracy for Test Data = ',score_data)"
   ]
  },
  {
   "cell_type": "markdown",
   "id": "79a94d3b",
   "metadata": {},
   "source": [
    "###### Model Accuracy for Training Data"
   ]
  },
  {
   "cell_type": "code",
   "execution_count": 144,
   "id": "8a01e571",
   "metadata": {},
   "outputs": [
    {
     "name": "stdout",
     "output_type": "stream",
     "text": [
      "Model Accuracy for Training Data =  0.8301886792452831\n"
     ]
    }
   ],
   "source": [
    "score_data = knn.score(x_train, y_train)\n",
    "print('Model Accuracy for Training Data = ',score_data)"
   ]
  }
 ],
 "metadata": {
  "kernelspec": {
   "display_name": "Python 3",
   "language": "python",
   "name": "python3"
  },
  "language_info": {
   "codemirror_mode": {
    "name": "ipython",
    "version": 3
   },
   "file_extension": ".py",
   "mimetype": "text/x-python",
   "name": "python",
   "nbconvert_exporter": "python",
   "pygments_lexer": "ipython3",
   "version": "3.8.8"
  }
 },
 "nbformat": 4,
 "nbformat_minor": 5
}
